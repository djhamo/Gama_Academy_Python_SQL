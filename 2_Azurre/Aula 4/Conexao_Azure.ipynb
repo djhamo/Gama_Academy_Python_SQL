{
  "nbformat": 4,
  "nbformat_minor": 0,
  "metadata": {
    "colab": {
      "name": "Conexao Azure.ipynb",
      "provenance": [],
      "collapsed_sections": []
    },
    "kernelspec": {
      "name": "python3",
      "display_name": "Python 3"
    }
  },
  "cells": [
    {
      "cell_type": "code",
      "metadata": {
        "colab": {
          "base_uri": "https://localhost:8080/"
        },
        "id": "AQwl2pXTLTcM",
        "outputId": "a93c3e3f-a1a3-4212-bf73-c29186e81538"
      },
      "source": [
        "\"\"\"\r\n",
        "!apt-get install -y libodbc1\r\n",
        "!apt install unixodbc\r\n",
        "!apt install unixodbc-dev\r\n",
        "!curl https://packages.microsoft.com/keys/microsoft.asc | apt-key add -\r\n",
        "!curl https://packages.microsoft.com/config/ubuntu/16.04/prod.list > /etc/apt/sources.list.d/mssql-release.list\r\n",
        "!apt-get update\r\n",
        "!ACCEPT_EULA=Y apt-get -q -y install msodbcsql17\r\n",
        "\r\n",
        "!pip install pyodbc\r\n",
        "\"\"\"\r\n",
        "import pyodbc\r\n",
        "\r\n",
        "server = 'jacobiano.database.windows.net'\r\n",
        "database = 'DB_SQL_GAMMA'\r\n",
        "username = 'tiago'\r\n",
        "password = ''\r\n",
        "driver= '{ODBC Driver 17 for SQL Server}'\r\n",
        "connString = 'DRIVER='+driver+';SERVER='+server+';PORT=1433;DATABASE='+database+';UID='+username+';PWD='+ password\r\n",
        "print(connString)\r\n",
        "\r\n",
        "def execSQL(sql : str):\r\n",
        "    cursor.execute(sql)\r\n",
        "    insertObject = []\r\n",
        "    columnNames = [column[0] for column in cursor.description]       \r\n",
        "    for record in cursor.fetchall():\r\n",
        "        insertObject.append( dict( zip( columnNames , record ) ) )\r\n",
        "\r\n",
        "    return insertObject    \r\n",
        "\r\n",
        "with pyodbc.connect(connString) as conn:\r\n",
        "    with conn.cursor() as cursor:\r\n",
        "\r\n",
        "        insertObject = execSQL(\"SELECT * FROM UF\")\r\n",
        "        \r\n",
        "for row in range(len(insertObject)):\r\n",
        "    #print(insertObject[row])\r\n",
        "    print(insertObject[row]['ID'], insertObject[row]['NOME'], insertObject[row]['SIGLA'])\r\n",
        "\r\n"
      ],
      "execution_count": 13,
      "outputs": [
        {
          "output_type": "stream",
          "text": [
            "DRIVER={ODBC Driver 17 for SQL Server};SERVER=jacobiano.database.windows.net;PORT=1433;DATABASE=DB_SQL_GAMMA;UID=tiago;PWD=251x2mdlltfd@\n",
            "11 Rondônia RO\n",
            "12 Acre AC\n",
            "13 Amazonas AM\n",
            "14 Roraima RR\n",
            "15 Pará PA\n",
            "16 Amapá AP\n",
            "17 Tocantins TO\n",
            "21 Maranhão MA\n",
            "22 Piauí PI\n",
            "23 Ceará CE\n",
            "24 Rio Grande do Norte RN\n",
            "25 Paraíba PB\n",
            "26 Pernambuco PE\n",
            "27 Alagoas AL\n",
            "28 Sergipe SE\n",
            "29 Bahia BA\n",
            "31 Minas Gerais MG\n",
            "32 Espírito Santo ES\n",
            "33 Rio de Janeiro RJ\n",
            "35 São Paulo SP\n",
            "41 Paraná PR\n",
            "42 Santa Catarina SC\n",
            "43 Rio Grande do Sul RS\n",
            "50 Mato Grosso do Sul MS\n",
            "51 Mato Grosso MT\n",
            "52 Goiás GO\n",
            "53 Distrito Federal DF\n"
          ],
          "name": "stdout"
        }
      ]
    }
  ]
}